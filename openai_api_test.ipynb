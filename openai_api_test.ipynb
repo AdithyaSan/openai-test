{
 "cells": [
  {
   "cell_type": "markdown",
   "id": "9d7c7a76-2bea-43a6-8b8b-cbe89c6ea037",
   "metadata": {},
   "source": [
    "# Using OpenAI API and executing a prompt"
   ]
  },
  {
   "cell_type": "code",
   "execution_count": 7,
   "id": "4468acaf-acde-4777-8fc4-be3faf9590e7",
   "metadata": {},
   "outputs": [],
   "source": [
    "#installing the openai library first\n",
    "!pip install openai"
   ]
  },
  {
   "cell_type": "code",
   "execution_count": 12,
   "id": "268d2a7b-1734-498f-9dc6-ab535fd6ddeb",
   "metadata": {},
   "outputs": [],
   "source": [
    "import os\n",
    "from openai import OpenAI\n",
    "\n",
    "#calling the API Key set in the local environment\n",
    "api_key = os.getenv('OPENAI_API_KEY')\n",
    "\n",
    "#verify if your API key is set in your environment\n",
    "if not api_key:\n",
    "    raise ValueError(\"API Key not found. Please set the OPENAI_API_KEY environment variable.\")\n",
    "\n",
    "client = OpenAI(api_key)"
   ]
  },
  {
   "cell_type": "code",
   "execution_count": 13,
   "id": "b197d54f-8bbe-40b4-8270-6b3781dc4c98",
   "metadata": {},
   "outputs": [],
   "source": [
    "#creating a function that takes a prompt as input, initiates a client call to OpenAI and returns a response\n",
    "def get_response(prompt, model=\"gpt-3.5-turbo\"): \n",
    "    messages = [{\"role\": \"user\", \"content\": prompt}]\n",
    "    response = client.chat.completions.create(\n",
    "        model=model,\n",
    "        messages=messages,\n",
    "        temperature=0 #temperature is the degree of randomness of the model's output\n",
    "    )\n",
    "    return response.choices[0].message.content"
   ]
  },
  {
   "cell_type": "code",
   "execution_count": null,
   "id": "ca2aaf8c-6578-4e29-80e3-e6c2ad57da11",
   "metadata": {},
   "outputs": [],
   "source": [
    "prompt = f\"\"\"\n",
    "Write a short haiku on loneliness\n",
    "\"\"\"\n",
    "response = get_response(prompt)\n",
    "print(response)"
   ]
  }
 ],
 "metadata": {
  "kernelspec": {
   "display_name": "anaconda-panel-2023.05-py310",
   "language": "python",
   "name": "conda-env-anaconda-panel-2023.05-py310-py"
  },
  "language_info": {
   "codemirror_mode": {
    "name": "ipython",
    "version": 3
   },
   "file_extension": ".py",
   "mimetype": "text/x-python",
   "name": "python",
   "nbconvert_exporter": "python",
   "pygments_lexer": "ipython3",
   "version": "3.11.5"
  }
 },
 "nbformat": 4,
 "nbformat_minor": 5
}
